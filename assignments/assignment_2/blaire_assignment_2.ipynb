{
 "cells": [
  {
   "cell_type": "markdown",
   "id": "f96bdfc7",
   "metadata": {},
   "source": [
    "# Assignment 2 | Programming Logic\n",
    "\n",
    "Reminder: in all of the assignments this semester, the answer is not the only consideration, but also how you get to it. It's OK (suggested even!) to use the internet for help. But you _should_ be able to answer all of these questions using only the programming techniques you have learned in class and from the readings.\n",
    "\n",
    "A few keys for success:\n",
    "- Avoid manual data entry\n",
    "- Emphasize logic and clarity\n",
    "- Use comments, docstrings, and descriptive variable names\n",
    "- In general, less code is better. But if more lines of code makes your program easier to read or understand what its doing, then go for it."
   ]
  },
  {
   "cell_type": "markdown",
   "id": "078a9000",
   "metadata": {},
   "source": [
    "## Problem 1 \n",
    "Write a Python program to count the number of even and odd numbers from a list of numbers. Test your code by running it on a list of integers from 1 to 9. No need to make this a function unless you want to."
   ]
  },
  {
   "cell_type": "code",
   "execution_count": 2,
   "id": "8553383a",
   "metadata": {},
   "outputs": [
    {
     "name": "stdout",
     "output_type": "stream",
     "text": [
      "Requirement already satisfied: pandas in /Users/blairefrett/anaconda3/lib/python3.11/site-packages (2.0.3)\n",
      "Requirement already satisfied: python-dateutil>=2.8.2 in /Users/blairefrett/anaconda3/lib/python3.11/site-packages (from pandas) (2.8.2)\n",
      "Requirement already satisfied: pytz>=2020.1 in /Users/blairefrett/anaconda3/lib/python3.11/site-packages (from pandas) (2023.3.post1)\n",
      "Requirement already satisfied: tzdata>=2022.1 in /Users/blairefrett/anaconda3/lib/python3.11/site-packages (from pandas) (2023.3)\n",
      "Requirement already satisfied: numpy>=1.21.0 in /Users/blairefrett/anaconda3/lib/python3.11/site-packages (from pandas) (1.24.3)\n",
      "Requirement already satisfied: six>=1.5 in /Users/blairefrett/anaconda3/lib/python3.11/site-packages (from python-dateutil>=2.8.2->pandas) (1.16.0)\n",
      "Note: you may need to restart the kernel to use updated packages.\n"
     ]
    }
   ],
   "source": [
    "pip install pandas"
   ]
  },
  {
   "cell_type": "code",
   "execution_count": 4,
   "id": "af7baaf4",
   "metadata": {},
   "outputs": [
    {
     "name": "stdout",
     "output_type": "stream",
     "text": [
      "Collecting package metadata (current_repodata.json): done\n",
      "Solving environment: done\n",
      "\n",
      "\n",
      "==> WARNING: A newer version of conda exists. <==\n",
      "  current version: 23.7.4\n",
      "  latest version: 24.1.1\n",
      "\n",
      "Please update conda by running\n",
      "\n",
      "    $ conda update -n base -c defaults conda\n",
      "\n",
      "Or to minimize the number of packages updated during conda update use\n",
      "\n",
      "     conda install conda=24.1.1\n",
      "\n",
      "\n",
      "\n",
      "## Package Plan ##\n",
      "\n",
      "  environment location: /Users/blairefrett/anaconda3\n",
      "\n",
      "  added / updated specs:\n",
      "    - numpy\n",
      "\n",
      "\n",
      "The following packages will be downloaded:\n",
      "\n",
      "    package                    |            build\n",
      "    ---------------------------|-----------------\n",
      "    ca-certificates-2023.12.12 |       hca03da5_0         127 KB\n",
      "    certifi-2024.2.2           |  py311hca03da5_0         161 KB\n",
      "    openssl-3.0.13             |       h1a28f6b_0         5.0 MB\n",
      "    ------------------------------------------------------------\n",
      "                                           Total:         5.3 MB\n",
      "\n",
      "The following packages will be UPDATED:\n",
      "\n",
      "  ca-certificates                     2023.08.22-hca03da5_0 --> 2023.12.12-hca03da5_0 \n",
      "  certifi                         2023.7.22-py311hca03da5_0 --> 2024.2.2-py311hca03da5_0 \n",
      "  openssl                                 3.0.10-h1a28f6b_2 --> 3.0.13-h1a28f6b_0 \n",
      "\n",
      "\n",
      "\n",
      "Downloading and Extracting Packages\n",
      "ca-certificates-2023 | 127 KB    |                                       |   0% \n",
      "certifi-2024.2.2     | 161 KB    |                                       |   0% \u001b[A\n",
      "\n",
      "ca-certificates-2023 | 127 KB    | ####6                                 |  13% \u001b[A\u001b[A\n",
      "ca-certificates-2023 | 127 KB    | ##################################### | 100% \u001b[A\n",
      "certifi-2024.2.2     | 161 KB    | ##################################### | 100% \u001b[A\n",
      "\n",
      "openssl-3.0.13       | 5.0 MB    | 1                                     |   0% \u001b[A\u001b[A\n",
      "\n",
      "openssl-3.0.13       | 5.0 MB    | #######6                              |  21% \u001b[A\u001b[A\n",
      "\n",
      "openssl-3.0.13       | 5.0 MB    | ################9                     |  46% \u001b[A\u001b[A\n",
      "\n",
      "openssl-3.0.13       | 5.0 MB    | #############################5        |  80% \u001b[A\u001b[A\n",
      "\n",
      "                                                                                \u001b[A\u001b[A\n",
      "                                                                                \u001b[A\n",
      "\n",
      "                                                                                \u001b[A\u001b[A\n",
      "Preparing transaction: done\n",
      "Verifying transaction: done\n",
      "Executing transaction: done\n",
      "\n",
      "Note: you may need to restart the kernel to use updated packages.\n"
     ]
    }
   ],
   "source": [
    "conda install numpy"
   ]
  },
  {
   "cell_type": "code",
   "execution_count": 59,
   "id": "8eb937c5",
   "metadata": {},
   "outputs": [
    {
     "name": "stdout",
     "output_type": "stream",
     "text": [
      "Number Even Numbers: 4\n",
      "Number Odd Numbers: 5\n"
     ]
    }
   ],
   "source": [
    "numbers = [1, 2, 3, 4, 5, 6, 7, 8, 9]\n",
    "even_num = 0\n",
    "odd_num = 0\n",
    "for num in numbers:\n",
    "    if num % 2 == 0:\n",
    "        even_num += 1\n",
    "    else:\n",
    "        odd_num += 1\n",
    "print(\"Number Even Numbers:\", even_num)\n",
    "print(\"Number Odd Numbers:\", odd_num)       \n",
    "\n",
    "#at first I named the set of numbers 1-9 as List = [1, 2, 3, 4, 5, 6, 7, 8, 9]. However, I kept getting\n",
    "#an error message for 'in' that said \"type object is not iterable\"\n",
    "#is that because using the word \"list\" made the computer not see the list as numbers???"
   ]
  },
  {
   "cell_type": "code",
   "execution_count": 60,
   "id": "22320a3c",
   "metadata": {},
   "outputs": [
    {
     "name": "stdout",
     "output_type": "stream",
     "text": [
      "Number Even Numbers: 4\n",
      "Number Odd Numbers: 5\n"
     ]
    }
   ],
   "source": [
    "#i am going to try to use a more generic code so I can use this on any list of numbers \n",
    "def even_odd(numbers):\n",
    "        even_num = 0\n",
    "        odd_num = 0\n",
    "        for num in numbers:\n",
    "            if num % 2 == 0:\n",
    "                even_num += 1\n",
    "            else:\n",
    "                odd_num += 1       \n",
    "\n",
    "numbers = [1, 2, 3, 4, 5, 6, 7, 8, 9]\n",
    "\n",
    "print(\"Number Even Numbers:\", even_num)\n",
    "print(\"Number Odd Numbers:\", odd_num)  \n",
    "\n",
    "#i am learning that the indents are really important and they have to be precise"
   ]
  },
  {
   "cell_type": "markdown",
   "id": "db9df1a9",
   "metadata": {
    "collapsed": true
   },
   "source": [
    "## Problem 2\n",
    "Write a Python function that takes a list of numbers and returns a list containing only the even numbers from the original list. Test your function by running it on a list of integers from 1 to 9."
   ]
  },
  {
   "cell_type": "code",
   "execution_count": 90,
   "id": "45fcfd00",
   "metadata": {},
   "outputs": [
    {
     "name": "stdout",
     "output_type": "stream",
     "text": [
      "Even Numbers: [2, 4, 6, 8]\n"
     ]
    }
   ],
   "source": [
    "#def even_num(numbers):\n",
    "    #even_numbers = []    \n",
    "   \n",
    "    #for num in numbers:\n",
    "            #if num % 2 == 0:\n",
    "    #return even_numbers\n",
    "\n",
    "#numbers = [1, 2, 3, 4, 5, 6, 7, 8, 9]\n",
    "#print(\"Even Numbers:\", even_num)\n",
    "\n",
    "#why is the above not working?? I will try a different way\n",
    "\n",
    "def even_num(numbers):\n",
    "    return [num for num in numbers if num %2 ==0]\n",
    "\n",
    "numbers = [1, 2, 3, 4, 5, 6, 7, 8, 9]\n",
    "print(\"Even Numbers:\", even_num(numbers))"
   ]
  },
  {
   "cell_type": "markdown",
   "id": "6a6f4ef0",
   "metadata": {},
   "source": [
    "## Problem 3\n",
    "\n",
    "1. Create a function that accepts a list of integers as an argument and returns a list of floats which equals each number as a fraction of the sum of all the items in the original list.\n",
    "\n",
    "2. Next, create a second function which is the same as the first, but limit each number in the output list to two decimals.\n",
    "\n",
    "3. Create another function which builds on the previous one by allowing a \"user\" pass in an argument that defines the number of decimal places to use in the output list.\n",
    "\n",
    "4. Test each of these functions with a list of integers"
   ]
  },
  {
   "cell_type": "code",
   "execution_count": 118,
   "id": "6856ee58",
   "metadata": {},
   "outputs": [
    {
     "name": "stdout",
     "output_type": "stream",
     "text": [
      "Fractions: [0.022222222222222223, 0.044444444444444446, 0.06666666666666667, 0.08888888888888889, 0.1111111111111111, 0.13333333333333333, 0.15555555555555556, 0.17777777777777778, 0.2]\n"
     ]
    }
   ],
   "source": [
    "def fraction_of_sum(numbers):\n",
    "    sum_total = sum(numbers)\n",
    "    fractions = []\n",
    "    for num in numbers:\n",
    "            fractions.append(num/sum_total)\n",
    "    return fractions\n",
    "\n",
    "#testing to see if correct \n",
    "numbers = [1, 2, 3, 4, 5, 6, 7, 8, 9]\n",
    "fractions = fraction_of_sum(numbers)\n",
    "print(\"Fractions:\", fractions)"
   ]
  },
  {
   "cell_type": "code",
   "execution_count": 117,
   "id": "bc85f050",
   "metadata": {},
   "outputs": [
    {
     "name": "stdout",
     "output_type": "stream",
     "text": [
      "Fractions: [0.02, 0.04, 0.07, 0.09, 0.11, 0.13, 0.16, 0.18, 0.2]\n"
     ]
    }
   ],
   "source": [
    "def fraction_of_sum(numbers):\n",
    "    sum_total = sum(numbers)\n",
    "    fractions = []\n",
    "    for num in numbers:\n",
    "            fraction = num / sum_total\n",
    "            fractions.append(round(fraction, 2))\n",
    "    return fractions\n",
    "\n",
    "#test\n",
    "numbers = [1, 2, 3, 4, 5, 6, 7, 8, 9]\n",
    "fractions = fraction_of_sum(numbers)\n",
    "print(\"Fractions:\", fractions)"
   ]
  },
  {
   "cell_type": "code",
   "execution_count": 116,
   "id": "c7f9d169",
   "metadata": {},
   "outputs": [
    {
     "name": "stdout",
     "output_type": "stream",
     "text": [
      "Fractions with 4 decimal places: [0.0233, 0.0465, 0.0698, 0.093, 0.093, 0.1163, 0.1628, 0.186, 0.2093]\n"
     ]
    }
   ],
   "source": [
    "def fraction_of_sum(numbers, decimal_places=4):\n",
    "    sum_total = sum(numbers)\n",
    "    fractions = []\n",
    "    for num in numbers:\n",
    "        fraction = num / sum_total\n",
    "        rounded_fraction = round(fraction, decimal_places)\n",
    "        fractions.append(rounded_fraction)\n",
    "    return fractions\n",
    "\n",
    "numbers = [1, 2, 3, 4, 4, 5, 7, 8, 9]\n",
    "decimal_places = 4\n",
    "fractions = fraction_of_sum(numbers, decimal_places)\n",
    "print(\"Fractions with\", decimal_places, \"decimal places:\", fractions)\n",
    "    "
   ]
  },
  {
   "cell_type": "markdown",
   "id": "17e43098",
   "metadata": {},
   "source": [
    "## Problem 4\n",
    "A prime number is any whole number greater than 1 that has no positive divisors besides 1 and itself. In other words, a prime number must be:\n",
    "1. an integer\n",
    "2. greater than 1\n",
    "3. divisible only by 1 and itself.\n",
    "\n",
    "Write a function is_prime(n) that accepts an argument `n` and returns `True` (boolean) if `n` is a prime number and `False` if n is not prime. For example, `is_prime(11)` should return `True` and `is_prime(12)` should return `False`.\n"
   ]
  },
  {
   "cell_type": "code",
   "execution_count": 124,
   "id": "7b43bc6c",
   "metadata": {},
   "outputs": [
    {
     "name": "stdout",
     "output_type": "stream",
     "text": [
      "True\n",
      "False\n"
     ]
    }
   ],
   "source": [
    "def is_prime(n):\n",
    "    if n <= 1:\n",
    "        return False\n",
    "    for i in range(2,n):\n",
    "        if n % i == 0:\n",
    "            return False\n",
    "    return True\n",
    "\n",
    "print(is_prime(11))\n",
    "print(is_prime(12))"
   ]
  },
  {
   "cell_type": "markdown",
   "id": "e556b42f",
   "metadata": {},
   "source": [
    "## Problem 5"
   ]
  },
  {
   "cell_type": "markdown",
   "id": "fd5f4463",
   "metadata": {},
   "source": [
    "1. Create a class called `Housing`, and add the following attributes to it:\n",
    "  - type\n",
    "  - area\n",
    "  - number of bedrooms\n",
    "  - value (price)\n",
    "  - year built.\n",
    "2. Create two instances of your class and populate their attributes (make 'em up)\n",
    "3. Create a method called `rent()` that calculates the estimated monthly rent for each house (assume that monthly rent is 0.4% of the value of the house)\n",
    "4. Print the rent for both instances."
   ]
  },
  {
   "cell_type": "code",
   "execution_count": 127,
   "id": "efa713df",
   "metadata": {},
   "outputs": [],
   "source": [
    "class Housing:\n",
    "    def __init__(self, type, area, number_bedrooms, value, year_built):\n",
    "        self.type = type\n",
    "        self.area = area\n",
    "        self.number_bedrooms = number_bedrooms\n",
    "        self.value = value\n",
    "        self.year_built = year_built\n",
    "        \n",
    "        "
   ]
  },
  {
   "cell_type": "code",
   "execution_count": 128,
   "id": "977d21df",
   "metadata": {},
   "outputs": [],
   "source": [
    "housing_1 = Housing(\"House\", 3000, 5, 1000000, 1966)\n",
    "housing_2 = Housing(\"Apartment\", 500, 1, 1900, 1950)"
   ]
  },
  {
   "cell_type": "code",
   "execution_count": 139,
   "id": "4968c545",
   "metadata": {},
   "outputs": [],
   "source": [
    "class Housing:\n",
    "    def __init__(self, type, area, number_bedrooms, value, year_built):\n",
    "        self.type = type\n",
    "        self.area = area\n",
    "        self.number_bedrooms = number_bedrooms\n",
    "        self.value = value\n",
    "        self.year_built = year_built\n",
    "        \n",
    "housing_1 = Housing(\"House\", 3000, 5, 1000000, 1966)\n",
    "housing_2 = Housing(\"Apartment\", 500, 1, 1900, 1950)\n",
    "        \n",
    "def rent(self):\n",
    "        return 0.004 * self.value\n",
    "    \n",
    "Housing.rent = rent"
   ]
  },
  {
   "cell_type": "code",
   "execution_count": 140,
   "id": "4a6dbe09",
   "metadata": {},
   "outputs": [
    {
     "name": "stdout",
     "output_type": "stream",
     "text": [
      "Monthly Rent House: 4000.0\n",
      "Monthly Rent Apartment: 7.6000000000000005\n"
     ]
    }
   ],
   "source": [
    "print(\"Monthly Rent House:\", housing_1.rent( ))\n",
    "print(\"Monthly Rent Apartment:\", housing_2.rent( ))"
   ]
  },
  {
   "cell_type": "code",
   "execution_count": null,
   "id": "3f80cbb7",
   "metadata": {},
   "outputs": [],
   "source": []
  }
 ],
 "metadata": {
  "kernelspec": {
   "display_name": "Python 3 (ipykernel)",
   "language": "python",
   "name": "python3"
  },
  "language_info": {
   "codemirror_mode": {
    "name": "ipython",
    "version": 3
   },
   "file_extension": ".py",
   "mimetype": "text/x-python",
   "name": "python",
   "nbconvert_exporter": "python",
   "pygments_lexer": "ipython3",
   "version": "3.11.5"
  },
  "toc": {
   "base_numbering": 1,
   "nav_menu": {},
   "number_sections": false,
   "sideBar": false,
   "skip_h1_title": true,
   "title_cell": "Table of Contents",
   "title_sidebar": "Contents",
   "toc_cell": false,
   "toc_position": {},
   "toc_section_display": true,
   "toc_window_display": false
  }
 },
 "nbformat": 4,
 "nbformat_minor": 5
}
