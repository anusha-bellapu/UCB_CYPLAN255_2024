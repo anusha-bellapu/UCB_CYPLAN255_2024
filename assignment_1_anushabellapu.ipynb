{
 "cells": [
  {
   "cell_type": "markdown",
   "metadata": {},
   "source": [
    "## Assignment 1 | Data Types\n",
    "\n",
    "Add code cells as needed for your answers. "
   ]
  },
  {
   "cell_type": "markdown",
   "metadata": {},
   "source": [
    "### Exercise 1: Manipulating Lists"
   ]
  },
  {
   "cell_type": "markdown",
   "metadata": {},
   "source": [
    "Create a list containing the numbers 10, 20, and 30. Store your list as a variable named `a`. Then create a second list containing the numbers 30, 60, and 90. Call this this `b`."
   ]
  },
  {
   "cell_type": "code",
   "execution_count": 2,
   "metadata": {},
   "outputs": [],
   "source": [
    "a = [10,20,30]\n",
    "b = [30,60,90]"
   ]
  },
  {
   "cell_type": "markdown",
   "metadata": {},
   "source": [
    "In the cells below, write Python expressions to create the following four outputs by combining `a` and `b` in creative ways:\n",
    "\n",
    "1. [[10, 20, 30], [30, 60, 90]]\n",
    "\n",
    "2. [10, 20, 30, 30, 60, 90]\n",
    "\n",
    "3. [10, 20, 60, 90]\n",
    "\n",
    "4. [20, 40, 60]"
   ]
  },
  {
   "cell_type": "code",
   "execution_count": 6,
   "metadata": {},
   "outputs": [
    {
     "data": {
      "text/plain": [
       "[[10, 20, 30], [30, 60, 90]]"
      ]
     },
     "execution_count": 6,
     "metadata": {},
     "output_type": "execute_result"
    }
   ],
   "source": [
    "c = [a,b]\n",
    "c"
   ]
  },
  {
   "cell_type": "code",
   "execution_count": 9,
   "metadata": {},
   "outputs": [
    {
     "data": {
      "text/plain": [
       "[10, 20, 30, 30, 60, 90]"
      ]
     },
     "execution_count": 9,
     "metadata": {},
     "output_type": "execute_result"
    }
   ],
   "source": [
    "d = a+b\n",
    "d"
   ]
  },
  {
   "cell_type": "code",
   "execution_count": 10,
   "metadata": {},
   "outputs": [
    {
     "data": {
      "text/plain": [
       "[10, 20, 60, 90]"
      ]
     },
     "execution_count": 10,
     "metadata": {},
     "output_type": "execute_result"
    }
   ],
   "source": [
    "e = [d[0],d[1],d[4],d[5]]\n",
    "e"
   ]
  },
  {
   "cell_type": "code",
   "execution_count": 13,
   "metadata": {},
   "outputs": [
    {
     "data": {
      "text/plain": [
       "[20, 40, 60]"
      ]
     },
     "execution_count": 13,
     "metadata": {},
     "output_type": "execute_result"
    }
   ],
   "source": [
    "f = [a[0]*2, a[1]*2, a[2]*2]\n",
    "f"
   ]
  },
  {
   "cell_type": "markdown",
   "metadata": {},
   "source": [
    "### Exercise 2. Working with Lists\n",
    "\n",
    "Create a list that contains the sums of each of the lists in G. \n",
    "\n",
    "`G = [[13, 9, 8], [14, 6, 12], [10, 13, 11], [7, 18, 9]]`\n",
    "\n",
    "Your output should look like:\n",
    "\n",
    "- `[30, 32, 34, 34]`\n",
    "\n",
    "Hint: try computing the sum for just one list first."
   ]
  },
  {
   "cell_type": "code",
   "execution_count": 16,
   "metadata": {},
   "outputs": [
    {
     "data": {
      "text/plain": [
       "[30, 32, 34, 34]"
      ]
     },
     "execution_count": 16,
     "metadata": {},
     "output_type": "execute_result"
    }
   ],
   "source": [
    "G = [[13, 9, 8], [14, 6, 12], [10, 13, 11], [7, 18, 9]]\n",
    "sum0 = G[0][0]+G[0][1]+G[0][2]\n",
    "sum1 = G[1][0]+G[1][1]+G[1][2]\n",
    "sum2 = G[2][0]+G[2][1]+G[2][2]\n",
    "sum3 = G[3][0]+G[3][1]+G[3][2]\n",
    "\n",
    "sumG = [sum0, sum1, sum2, sum3]\n",
    "sumG"
   ]
  },
  {
   "cell_type": "markdown",
   "metadata": {},
   "source": [
    "### Exercise 3: String Manipulation\n",
    "\n",
    "Turn the string below into 'all good countrymen' using the minimum amount of code, using only the methods we've covered so far. A couple of lines of code should do the trick.  Note: this requires string and list methods."
   ]
  },
  {
   "cell_type": "code",
   "execution_count": null,
   "metadata": {},
   "outputs": [],
   "source": [
    "s = 'Now is the time for all good men to come to the aid of their country!'"
   ]
  },
  {
   "cell_type": "code",
   "execution_count": 26,
   "metadata": {},
   "outputs": [
    {
     "data": {
      "text/plain": [
       "'all good countrymen'"
      ]
     },
     "execution_count": 26,
     "metadata": {},
     "output_type": "execute_result"
    }
   ],
   "source": [
    "s = 'Now is the time for all good men to come to the aid of their country !'\n",
    "s1 = str.split(s,\" \")\n",
    "s2 = [s1[5],s1[6],s1[15]]\n",
    "s = str.join(' ', s2)+s1[7]\n",
    "s"
   ]
  },
  {
   "cell_type": "markdown",
   "metadata": {},
   "source": [
    "### Exercise 4: String Manipulation and Type Conversion\n",
    "\n",
    "Define a variable `a = \"Sarah earns $96500 in a year\"`. Then maniuplate the value of `a` in order to print the following string: `Sarah earns $8041.67 monthly`\n",
    "\n",
    "Start by doing it in several steps and then combine them one step at a time until you can do it in one line."
   ]
  },
  {
   "cell_type": "code",
   "execution_count": 87,
   "metadata": {},
   "outputs": [
    {
     "name": "stdout",
     "output_type": "stream",
     "text": [
      "Sarah earns $8041.666666666667 monthly\n",
      "Sarah earns $8041.67 monthly\n"
     ]
    }
   ],
   "source": [
    "a = \"Sarah earns $96500 in a year\"\n",
    "b = a.split('$')[1]\n",
    "c = b.split(' ')[0]\n",
    "c_int = int(c)\n",
    "c_month = c_int/12\n",
    "c_month\n",
    "a1 = a.split('$')[0] + '$' + str(c_month) + ' monthly'\n",
    "print(a1)\n",
    "\n",
    "#combined\n",
    "income = round(int(a.split('$')[1].split(' ')[0])/12,2)\n",
    "a_new = a.split('$')[0] + '$' + str(income) + ' monthly'\n",
    "print(a_new)"
   ]
  },
  {
   "cell_type": "code",
   "execution_count": 88,
   "metadata": {},
   "outputs": [
    {
     "name": "stdout",
     "output_type": "stream",
     "text": [
      "Sarah earns $8041.67 monthly\n"
     ]
    }
   ],
   "source": [
    "print(a.split('$')[0] + '$' + str(round(int(a.split('$')[1].split(' ')[0])/12,2)) + ' monthly')"
   ]
  },
  {
   "cell_type": "code",
   "execution_count": null,
   "metadata": {},
   "outputs": [],
   "source": []
  },
  {
   "cell_type": "markdown",
   "metadata": {},
   "source": [
    "### Exercise 5: Create and Query a Dictionary on State Demographics\n",
    "\n",
    "Create two dictionaries, one for California and one for New York state, based on the data in the following table:\n",
    "\n",
    "| States | Pop Density | Prop White | Prop Afr Amer | Prop Asian | Prop Other | Owners | Renters |\n",
    "| --- | ---: | ---: | ---: | ---: | ---: | ---: | ---: |\n",
    "| CA | 239.1 | 0.57  | 0.06 | 0.13 | 0.22 | 7035371 | 5542127 |\n",
    "| NY | 411.2 | 0.65  | 0.15 | 0.07 | 0.22 | 3897837 | 3419918 |\n",
    "\n",
    "Each dictionary should have the following keys and value types: `name: (string)` , `population density: (float)`, `race (dict)`, `tenure: (dict)`. \n",
    "\n",
    "1.  Create one dictionary called CA and one called NY that contain dictionaries containing name, pop_density, race as a dictionary, and tenure for California and New York.  Now combine these into a dictionary called \"states\", making it a dictionary of dictionaries, or a nested dictionary.\n",
    "\n",
    "1.  Check if Texas is in our state dictionary (we know it isn't but show us).\n",
    "\n",
    "1. Print the White population in New York as a percentage\n",
    "\n",
    "1. Assume there was a typo in the data, and update the White population fraction of NY to 0.64. Verify that it was updated by printing the percentage again.\n",
    "\n",
    "1. Print the percentage of households that are renters in California, with two decimal places"
   ]
  },
  {
   "cell_type": "code",
   "execution_count": 72,
   "metadata": {},
   "outputs": [
    {
     "name": "stdout",
     "output_type": "stream",
     "text": [
      "False\n",
      "Percentage of White population in New York is 65%\n",
      "Percentage of White population in New York is 64%\n",
      "Percentage of renters in California is 44.06%\n"
     ]
    }
   ],
   "source": [
    "CA = { \n",
    "      'name:': 'California', \n",
    "      'pop_density': 239.1, \n",
    "      'race':{'White': 0.57, 'African American': 0.06, 'Asian': 0.13, 'Other': 0.22},\n",
    "      'tenure': {'Owners': 7035371, 'Renters': 5542127}\n",
    "      }\n",
    "NY = { \n",
    "      'name:': 'New York', \n",
    "      'pop_density': 411.2, \n",
    "      'race':{'White': 0.65, 'African American': 0.15, 'Asian': 0.07, 'Other': 0.22},\n",
    "      'tenure': {'Owners': 3897837, 'Renters': 3419918}\n",
    "      }\n",
    "states = {'CA': CA, 'NY':NY}\n",
    "\n",
    "#checking if Texas is in states\n",
    "print('TX' in states)\n",
    "\n",
    "#printing White population in NY\n",
    "NY_W_percent = round(NY['race']['White']*100)\n",
    "print('Percentage of White population in New York is ' +str(NY_W_percent)+'%')\n",
    "\n",
    "#updating the data \n",
    "NY['race']['White']= 0.64\n",
    "NY_W_percent = round(NY['race']['White']*100)\n",
    "print('Percentage of White population in New York is ' +str(NY_W_percent)+'%')\n",
    "\n",
    "#percentage of renters in California\n",
    "CA_R_percent = round(CA['tenure']['Renters']/(CA['tenure']['Renters']+CA['tenure']['Owners'])*100,2)\n",
    "print('Percentage of renters in California is ' +str(CA_R_percent)+'%')"
   ]
  },
  {
   "cell_type": "markdown",
   "metadata": {
    "collapsed": true,
    "jupyter": {
     "outputs_hidden": true
    }
   },
   "source": [
    "### Exercise 6: Working with Numpy Arrays\n",
    "\n",
    "1. Create and print a 4 x 4 array named `a` with value 3 everywhere.\n",
    "\n",
    "1. Create and print a 4 x 4 array named `b` with elements drawn from a uniform random distribution \n",
    "\n",
    "1. Create and print array `c` by dividing a by b\n",
    "\n",
    "1. Compute and print the min, mean, max, median, and 90th percentile values of `c`\n",
    "\n",
    "1. Compute and print the sum of the second column in `c`"
   ]
  },
  {
   "cell_type": "code",
   "execution_count": 76,
   "metadata": {},
   "outputs": [
    {
     "name": "stdout",
     "output_type": "stream",
     "text": [
      "Array a:\n",
      "[[3 3 3 3]\n",
      " [3 3 3 3]\n",
      " [3 3 3 3]\n",
      " [3 3 3 3]]\n"
     ]
    }
   ],
   "source": [
    "import numpy as n\n",
    "a = n.full((4, 4), 3)\n",
    "print(\"Array a:\")\n",
    "print(a)"
   ]
  },
  {
   "cell_type": "code",
   "execution_count": 86,
   "metadata": {},
   "outputs": [
    {
     "name": "stdout",
     "output_type": "stream",
     "text": [
      "Array b:\n",
      "[[0.35188263 0.17539759 0.99954108 0.82459533]\n",
      " [0.54117361 0.17107929 0.94989731 0.12641302]\n",
      " [0.07458886 0.94787351 0.22712004 0.84833833]\n",
      " [0.82529033 0.35013504 0.8788615  0.36876033]]\n"
     ]
    }
   ],
   "source": [
    "b = n.random.rand(4, 4)\n",
    "print(\"Array b:\")\n",
    "print(b)"
   ]
  },
  {
   "cell_type": "code",
   "execution_count": 85,
   "metadata": {},
   "outputs": [
    {
     "name": "stdout",
     "output_type": "stream",
     "text": [
      "Array c:\n",
      "[[  3.74247454   6.44192772   3.13975227  21.97624523]\n",
      " [  5.23171936   3.50457547   7.45214477   3.20276645]\n",
      " [116.37329391 174.04918853   5.40653678   3.57112938]\n",
      " [ 21.81730939   3.07334921   5.84374346   5.72692465]]\n"
     ]
    }
   ],
   "source": [
    "c = n.divide(a, b)\n",
    "print(\"Array c:\")\n",
    "print(c)"
   ]
  },
  {
   "cell_type": "code",
   "execution_count": 80,
   "metadata": {},
   "outputs": [
    {
     "name": "stdout",
     "output_type": "stream",
     "text": [
      "\n",
      "Statistics of c:\n",
      "Minimum: 3.117265180584601\n",
      "Mean: 15.02349030939922\n",
      "Maximum: 134.46989741171177\n",
      "Median: 7.340182631641727\n",
      "90th percentile: 12.799075727625356\n"
     ]
    }
   ],
   "source": [
    "print(\"\\nStatistics of c:\")\n",
    "print(\"Minimum:\", n.min(c))\n",
    "print(\"Mean:\", n.mean(c))\n",
    "print(\"Maximum:\", n.max(c))\n",
    "print(\"Median:\", n.median(c))\n",
    "print(\"90th percentile:\", n.percentile(c, 90))"
   ]
  },
  {
   "cell_type": "code",
   "execution_count": 84,
   "metadata": {},
   "outputs": [
    {
     "name": "stdout",
     "output_type": "stream",
     "text": [
      "Sum of the second column in c: 161.41989848421107\n"
     ]
    }
   ],
   "source": [
    "sum_second_column = n.sum(c[:, 1])\n",
    "print(\"Sum of the second column in c:\", sum_second_column)"
   ]
  }
 ],
 "metadata": {
  "kernelspec": {
   "display_name": "Python 3 (ipykernel)",
   "language": "python",
   "name": "python3"
  },
  "language_info": {
   "codemirror_mode": {
    "name": "ipython",
    "version": 3
   },
   "file_extension": ".py",
   "mimetype": "text/x-python",
   "name": "python",
   "nbconvert_exporter": "python",
   "pygments_lexer": "ipython3",
   "version": "3.12.0"
  },
  "toc": {
   "base_numbering": 1,
   "nav_menu": {},
   "number_sections": false,
   "sideBar": true,
   "skip_h1_title": false,
   "title_cell": "Table of Contents",
   "title_sidebar": "Contents",
   "toc_cell": false,
   "toc_position": {},
   "toc_section_display": true,
   "toc_window_display": false
  }
 },
 "nbformat": 4,
 "nbformat_minor": 4
}
