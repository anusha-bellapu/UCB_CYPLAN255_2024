{
 "cells": [
  {
   "cell_type": "markdown",
   "metadata": {},
   "source": [
    "REMEMBER: FIRST CREATE A COPY OF THIS FILE WITH A UNIQUE NAME AND DO YOUR WORK THERE. AND MAKE SURE YOU COMMIT YOUR CHANGES TO THE `hw3_submissions` BRANCH."
   ]
  },
  {
   "cell_type": "markdown",
   "metadata": {},
   "source": [
    "# Assignment 3 | Cleaning and Exploring Data with Pandas\n",
    "\n"
   ]
  },
  {
   "cell_type": "markdown",
   "metadata": {},
   "source": [
    "<img src=\"data/scoreCard.jpg\" width=450>\n",
    "\n",
    "In this assignment, you will investigate restaurant food safety scores for restaurants in San Francisco. Above is a sample score card for a restaurant. The scores and violation information have been made available by the San Francisco Department of Public Health. "
   ]
  },
  {
   "cell_type": "markdown",
   "metadata": {},
   "source": [
    "## Loading Food Safety Data\n",
    "\n",
    "\n",
    "There are 2 files in the data directory:\n",
    "1. business.csv containing food establishments in San Francisco\n",
    "1. inspections.csv containing retaurant inspections records\n",
    "\n",
    "Let's start by loading them into Pandas dataframes.  One of the files, business.csv, has encoding (ISO-8859-1), so you will need to account for that when reading it."
   ]
  },
  {
   "cell_type": "markdown",
   "metadata": {},
   "source": [
    "### Question 1\n",
    "\n",
    "#### Question 1a\n",
    "Read the two files noted above into two pandas dataframes named `bus` and `ins`, respectively. Print the first 5 rows of each to inspect them.\n"
   ]
  },
  {
   "cell_type": "code",
   "execution_count": 5,
   "metadata": {},
   "outputs": [],
   "source": [
    "import pandas as pd"
   ]
  },
  {
   "cell_type": "code",
   "execution_count": 6,
   "metadata": {
    "tags": [
     "solution"
    ]
   },
   "outputs": [],
   "source": [
    "bus = pd.read_csv('data/businesses.csv', encoding='ISO-8859-1')\n",
    "ins = pd.read_csv('data/inspections.csv')"
   ]
  },
  {
   "cell_type": "code",
   "execution_count": 19,
   "metadata": {},
   "outputs": [
    {
     "data": {
      "text/html": [
       "<div>\n",
       "<style scoped>\n",
       "    .dataframe tbody tr th:only-of-type {\n",
       "        vertical-align: middle;\n",
       "    }\n",
       "\n",
       "    .dataframe tbody tr th {\n",
       "        vertical-align: top;\n",
       "    }\n",
       "\n",
       "    .dataframe thead th {\n",
       "        text-align: right;\n",
       "    }\n",
       "</style>\n",
       "<table border=\"1\" class=\"dataframe\">\n",
       "  <thead>\n",
       "    <tr style=\"text-align: right;\">\n",
       "      <th></th>\n",
       "      <th>business_id</th>\n",
       "      <th>name</th>\n",
       "      <th>address</th>\n",
       "      <th>city</th>\n",
       "      <th>state</th>\n",
       "      <th>postal_code</th>\n",
       "      <th>latitude</th>\n",
       "      <th>longitude</th>\n",
       "      <th>phone_number</th>\n",
       "    </tr>\n",
       "  </thead>\n",
       "  <tbody>\n",
       "    <tr>\n",
       "      <th>0</th>\n",
       "      <td>10</td>\n",
       "      <td>TIRAMISU KITCHEN</td>\n",
       "      <td>033 BELDEN PL</td>\n",
       "      <td>San Francisco</td>\n",
       "      <td>CA</td>\n",
       "      <td>94104</td>\n",
       "      <td>37.791116</td>\n",
       "      <td>-122.403816</td>\n",
       "      <td>+14154217044</td>\n",
       "    </tr>\n",
       "    <tr>\n",
       "      <th>1</th>\n",
       "      <td>19</td>\n",
       "      <td>NRGIZE LIFESTYLE CAFE</td>\n",
       "      <td>1200 VAN NESS AVE, 3RD FLOOR</td>\n",
       "      <td>San Francisco</td>\n",
       "      <td>CA</td>\n",
       "      <td>94109</td>\n",
       "      <td>37.786848</td>\n",
       "      <td>-122.421547</td>\n",
       "      <td>+14157763262</td>\n",
       "    </tr>\n",
       "    <tr>\n",
       "      <th>2</th>\n",
       "      <td>24</td>\n",
       "      <td>OMNI S.F. HOTEL - 2ND FLOOR PANTRY</td>\n",
       "      <td>500 CALIFORNIA ST, 2ND  FLOOR</td>\n",
       "      <td>San Francisco</td>\n",
       "      <td>CA</td>\n",
       "      <td>94104</td>\n",
       "      <td>37.792888</td>\n",
       "      <td>-122.403135</td>\n",
       "      <td>+14156779494</td>\n",
       "    </tr>\n",
       "    <tr>\n",
       "      <th>3</th>\n",
       "      <td>31</td>\n",
       "      <td>NORMAN'S ICE CREAM AND FREEZES</td>\n",
       "      <td>2801 LEAVENWORTH ST</td>\n",
       "      <td>San Francisco</td>\n",
       "      <td>CA</td>\n",
       "      <td>94133</td>\n",
       "      <td>37.807155</td>\n",
       "      <td>-122.419004</td>\n",
       "      <td>NaN</td>\n",
       "    </tr>\n",
       "    <tr>\n",
       "      <th>4</th>\n",
       "      <td>45</td>\n",
       "      <td>CHARLIE'S DELI CAFE</td>\n",
       "      <td>3202 FOLSOM ST</td>\n",
       "      <td>San Francisco</td>\n",
       "      <td>CA</td>\n",
       "      <td>94110</td>\n",
       "      <td>37.747114</td>\n",
       "      <td>-122.413641</td>\n",
       "      <td>+14156415051</td>\n",
       "    </tr>\n",
       "  </tbody>\n",
       "</table>\n",
       "</div>"
      ],
      "text/plain": [
       "   business_id                                name  \\\n",
       "0           10                    TIRAMISU KITCHEN   \n",
       "1           19               NRGIZE LIFESTYLE CAFE   \n",
       "2           24  OMNI S.F. HOTEL - 2ND FLOOR PANTRY   \n",
       "3           31      NORMAN'S ICE CREAM AND FREEZES   \n",
       "4           45                 CHARLIE'S DELI CAFE   \n",
       "\n",
       "                         address           city state postal_code   latitude  \\\n",
       "0                  033 BELDEN PL  San Francisco    CA       94104  37.791116   \n",
       "1   1200 VAN NESS AVE, 3RD FLOOR  San Francisco    CA       94109  37.786848   \n",
       "2  500 CALIFORNIA ST, 2ND  FLOOR  San Francisco    CA       94104  37.792888   \n",
       "3           2801 LEAVENWORTH ST   San Francisco    CA       94133  37.807155   \n",
       "4                3202 FOLSOM ST   San Francisco    CA       94110  37.747114   \n",
       "\n",
       "    longitude  phone_number  \n",
       "0 -122.403816  +14154217044  \n",
       "1 -122.421547  +14157763262  \n",
       "2 -122.403135  +14156779494  \n",
       "3 -122.419004           NaN  \n",
       "4 -122.413641  +14156415051  "
      ]
     },
     "execution_count": 19,
     "metadata": {},
     "output_type": "execute_result"
    }
   ],
   "source": [
    "bus.head()"
   ]
  },
  {
   "cell_type": "code",
   "execution_count": 18,
   "metadata": {},
   "outputs": [
    {
     "data": {
      "text/html": [
       "<div>\n",
       "<style scoped>\n",
       "    .dataframe tbody tr th:only-of-type {\n",
       "        vertical-align: middle;\n",
       "    }\n",
       "\n",
       "    .dataframe tbody tr th {\n",
       "        vertical-align: top;\n",
       "    }\n",
       "\n",
       "    .dataframe thead th {\n",
       "        text-align: right;\n",
       "    }\n",
       "</style>\n",
       "<table border=\"1\" class=\"dataframe\">\n",
       "  <thead>\n",
       "    <tr style=\"text-align: right;\">\n",
       "      <th></th>\n",
       "      <th>business_id</th>\n",
       "      <th>score</th>\n",
       "      <th>date</th>\n",
       "      <th>type</th>\n",
       "    </tr>\n",
       "  </thead>\n",
       "  <tbody>\n",
       "    <tr>\n",
       "      <th>0</th>\n",
       "      <td>10</td>\n",
       "      <td>82</td>\n",
       "      <td>20160503</td>\n",
       "      <td>routine</td>\n",
       "    </tr>\n",
       "    <tr>\n",
       "      <th>1</th>\n",
       "      <td>10</td>\n",
       "      <td>94</td>\n",
       "      <td>20140729</td>\n",
       "      <td>routine</td>\n",
       "    </tr>\n",
       "    <tr>\n",
       "      <th>2</th>\n",
       "      <td>10</td>\n",
       "      <td>92</td>\n",
       "      <td>20140114</td>\n",
       "      <td>routine</td>\n",
       "    </tr>\n",
       "    <tr>\n",
       "      <th>3</th>\n",
       "      <td>19</td>\n",
       "      <td>94</td>\n",
       "      <td>20160513</td>\n",
       "      <td>routine</td>\n",
       "    </tr>\n",
       "    <tr>\n",
       "      <th>4</th>\n",
       "      <td>19</td>\n",
       "      <td>94</td>\n",
       "      <td>20141110</td>\n",
       "      <td>routine</td>\n",
       "    </tr>\n",
       "  </tbody>\n",
       "</table>\n",
       "</div>"
      ],
      "text/plain": [
       "   business_id  score      date     type\n",
       "0           10     82  20160503  routine\n",
       "1           10     94  20140729  routine\n",
       "2           10     92  20140114  routine\n",
       "3           19     94  20160513  routine\n",
       "4           19     94  20141110  routine"
      ]
     },
     "execution_count": 18,
     "metadata": {},
     "output_type": "execute_result"
    }
   ],
   "source": [
    "ins.head()"
   ]
  },
  {
   "cell_type": "markdown",
   "metadata": {},
   "source": [
    "## Examining the Business data\n",
    "\n",
    "From its name alone, we expect the `businesses.csv` file to contain information about the restaurants. Let's investigate this dataset."
   ]
  },
  {
   "cell_type": "markdown",
   "metadata": {},
   "source": [
    "### Question 2\n",
    "\n",
    "#### Question 2a: How many records are there?"
   ]
  },
  {
   "cell_type": "code",
   "execution_count": 7,
   "metadata": {
    "scrolled": true,
    "tags": [
     "solution"
    ]
   },
   "outputs": [
    {
     "name": "stdout",
     "output_type": "stream",
     "text": [
      "Number of records in the businesses dataset is  6315\n"
     ]
    }
   ],
   "source": [
    "n_records = bus.shape[0]\n",
    "print (\"Number of records in the businesses dataset is \", n_records)"
   ]
  },
  {
   "cell_type": "markdown",
   "metadata": {},
   "source": [
    "#### Question 2b: How many unique business IDs are there?  "
   ]
  },
  {
   "cell_type": "code",
   "execution_count": 8,
   "metadata": {},
   "outputs": [
    {
     "name": "stdout",
     "output_type": "stream",
     "text": [
      "Number of unique business ids in the dataset is  6315\n"
     ]
    }
   ],
   "source": [
    "ar_id_unique = bus[\"business_id\"].unique()\n",
    "n_id_unique = len(ar_id_unique)\n",
    "print (\"Number of unique business ids in the dataset is \",n_id_unique)\n"
   ]
  },
  {
   "cell_type": "markdown",
   "metadata": {},
   "source": [
    "#### Question 2c: What are the 5 most common businesses by name, and how many are there in San Francisco?"
   ]
  },
  {
   "cell_type": "code",
   "execution_count": 9,
   "metadata": {},
   "outputs": [
    {
     "name": "stdout",
     "output_type": "stream",
     "text": [
      "5 most common business by name are:\n",
      "name\n",
      "STARBUCKS COFFEE              72\n",
      "PEET'S COFFEE & TEA           24\n",
      "MCDONALDS                     12\n",
      "SAN FRANCISCO SOUP COMPANY    11\n",
      "WALGREENS                     11\n",
      "Name: count, dtype: int64\n",
      "name\n",
      "STARBUCKS COFFEE              72\n",
      "PEET'S COFFEE & TEA           24\n",
      "MCDONALDS                     12\n",
      "SAN FRANCISCO SOUP COMPANY    11\n",
      "WALGREENS                     11\n",
      "Name: count, dtype: int64\n"
     ]
    }
   ],
   "source": [
    "bus_5common = bus[\"name\"].value_counts().head()\n",
    "print (\"5 most common business by name are:\")\n",
    "print (bus_5common)\n",
    "bus_sf = bus[bus[\"city\"]== \"San Francisco\"]\n",
    "bus_sf_count = bus_sf[\"name\"].value_counts().head()\n",
    "sf_common_count = bus_sf_count.loc[bus_5common.index]\n",
    "print (sf_common_count)"
   ]
  },
  {
   "cell_type": "code",
   "execution_count": null,
   "metadata": {},
   "outputs": [],
   "source": []
  },
  {
   "cell_type": "code",
   "execution_count": null,
   "metadata": {},
   "outputs": [],
   "source": []
  },
  {
   "cell_type": "markdown",
   "metadata": {
    "tags": [
     "written"
    ]
   },
   "source": [
    "## Zip code\n",
    "\n",
    "Next, let's  explore some of the variables in the business table. We begin by examining the postal code.\n",
    "\n",
    "### Question 3\n",
    "\n",
    "#### Question 3a\n",
    "How are the zip code values stored in python (i.e. data type)?\n",
    "\n",
    "To answer this you might want to examine a particular entry."
   ]
  },
  {
   "cell_type": "code",
   "execution_count": 10,
   "metadata": {
    "tags": [
     "solution"
    ]
   },
   "outputs": [
    {
     "name": "stdout",
     "output_type": "stream",
     "text": [
      "business_id       int64\n",
      "name             object\n",
      "address          object\n",
      "city             object\n",
      "state            object\n",
      "postal_code      object\n",
      "latitude        float64\n",
      "longitude       float64\n",
      "phone_number     object\n",
      "dtype: object\n"
     ]
    }
   ],
   "source": [
    "print (bus.dtypes)"
   ]
  },
  {
   "cell_type": "code",
   "execution_count": null,
   "metadata": {},
   "outputs": [],
   "source": [
    "#zipcode i.e. postal_code is a string"
   ]
  },
  {
   "cell_type": "markdown",
   "metadata": {},
   "source": [
    "#### Question 3b\n",
    "\n",
    "What are the unique values of postal_code?"
   ]
  },
  {
   "cell_type": "code",
   "execution_count": 5,
   "metadata": {},
   "outputs": [
    {
     "name": "stdout",
     "output_type": "stream",
     "text": [
      "['94104' '94109' '94133' '94110' '94122' '94103' '94115' '94131' '94111'\n",
      " '94117' '94107' '94108' '94102' '94132' '94105' '94134' '94124' '94116'\n",
      " '94121' '94118' '94112' '94123' '94114' '94127' '941102019' '941' '94545'\n",
      " '94066' '941033148' nan '94158' '95105' '94013' '94130' 'CA' '92672'\n",
      " '94120' '94143' '94609' '94101' '00000' '94188' '94621' '94014' '94129'\n",
      " '94602' 'Ca']\n"
     ]
    }
   ],
   "source": [
    "postal_unique = bus[\"postal_code\"].unique()\n",
    "print (postal_unique)"
   ]
  },
  {
   "cell_type": "markdown",
   "metadata": {},
   "source": [
    "#### Question 3c\n",
    "\n",
    "Let's say we decide to exclude the businesses that have no zipcode for our analysis (which might include food trucks for example).  Use the list of valid 5-digit zip codes below to create a new dataframe called bus_valid, with only businesses whose postal_codes show up in this list of valid zipcodes. How many businesses are there in this new dataframe?"
   ]
  },
  {
   "cell_type": "code",
   "execution_count": 13,
   "metadata": {},
   "outputs": [],
   "source": [
    "validZip = [\"94102\", \"94103\", \"94104\", \"94105\", \"94107\", \"94108\",\n",
    "            \"94109\", \"94110\", \"94111\", \"94112\", \"94114\", \"94115\",\n",
    "            \"94116\", \"94117\", \"94118\", \"94121\", \"94122\", \"94123\", \n",
    "            \"94124\", \"94127\", \"94131\", \"94132\", \"94133\", \"94134\"]"
   ]
  },
  {
   "cell_type": "code",
   "execution_count": 14,
   "metadata": {},
   "outputs": [
    {
     "name": "stdout",
     "output_type": "stream",
     "text": [
      "Number of businesses with valid zip codes:  5999\n"
     ]
    }
   ],
   "source": [
    "vb = bus[bus['postal_code'].isin(validZip)]\n",
    "num_valid_bus = len(vb)\n",
    "print (\"Number of businesses with valid zip codes: \", num_valid_bus)"
   ]
  },
  {
   "cell_type": "markdown",
   "metadata": {},
   "source": [
    "## Latitude and Longitude\n",
    "\n",
    "Another aspect of the data we want to consider is the prevalence of missing values. If many records have missing values then we might be concerned about whether the nonmissing values are representative of the population.\n",
    "\n",
    "### Question 4\n",
    " \n",
    "Consider the longitude and latitude in the business DataFrame. \n",
    "\n",
    "#### Question 4a\n",
    "\n",
    "How many businesses are missing longitude values, working with only the businesses that are in the list of valid zipcodes?"
   ]
  },
  {
   "cell_type": "code",
   "execution_count": 15,
   "metadata": {
    "tags": [
     "solution"
    ]
   },
   "outputs": [
    {
     "data": {
      "text/html": [
       "<div>\n",
       "<style scoped>\n",
       "    .dataframe tbody tr th:only-of-type {\n",
       "        vertical-align: middle;\n",
       "    }\n",
       "\n",
       "    .dataframe tbody tr th {\n",
       "        vertical-align: top;\n",
       "    }\n",
       "\n",
       "    .dataframe thead th {\n",
       "        text-align: right;\n",
       "    }\n",
       "</style>\n",
       "<table border=\"1\" class=\"dataframe\">\n",
       "  <thead>\n",
       "    <tr style=\"text-align: right;\">\n",
       "      <th></th>\n",
       "      <th>business_id</th>\n",
       "      <th>name</th>\n",
       "      <th>address</th>\n",
       "      <th>city</th>\n",
       "      <th>state</th>\n",
       "      <th>postal_code</th>\n",
       "      <th>latitude</th>\n",
       "      <th>longitude</th>\n",
       "      <th>phone_number</th>\n",
       "    </tr>\n",
       "  </thead>\n",
       "  <tbody>\n",
       "    <tr>\n",
       "      <th>200</th>\n",
       "      <td>821</td>\n",
       "      <td>LA SANTANECA</td>\n",
       "      <td>3781 MISSION ST</td>\n",
       "      <td>San Francisco</td>\n",
       "      <td>CA</td>\n",
       "      <td>94110</td>\n",
       "      <td>NaN</td>\n",
       "      <td>NaN</td>\n",
       "      <td>14156481034</td>\n",
       "    </tr>\n",
       "    <tr>\n",
       "      <th>210</th>\n",
       "      <td>852</td>\n",
       "      <td>NEW HOLLYWOOD BAKERY &amp; RESTAURANT</td>\n",
       "      <td>652 PACIFIC AVE</td>\n",
       "      <td>San Francisco</td>\n",
       "      <td>CA</td>\n",
       "      <td>94133</td>\n",
       "      <td>NaN</td>\n",
       "      <td>NaN</td>\n",
       "      <td>14153979919</td>\n",
       "    </tr>\n",
       "    <tr>\n",
       "      <th>760</th>\n",
       "      <td>2934</td>\n",
       "      <td>LOU'S FISH SHACK</td>\n",
       "      <td>300 JEFFERSON ST</td>\n",
       "      <td>San Francisco</td>\n",
       "      <td>CA</td>\n",
       "      <td>94133</td>\n",
       "      <td>NaN</td>\n",
       "      <td>NaN</td>\n",
       "      <td>14157715687</td>\n",
       "    </tr>\n",
       "    <tr>\n",
       "      <th>826</th>\n",
       "      <td>3123</td>\n",
       "      <td>LES JOULINS</td>\n",
       "      <td>44 ELLIS ST</td>\n",
       "      <td>San Francisco</td>\n",
       "      <td>CA</td>\n",
       "      <td>94102</td>\n",
       "      <td>NaN</td>\n",
       "      <td>NaN</td>\n",
       "      <td>14153975397</td>\n",
       "    </tr>\n",
       "    <tr>\n",
       "      <th>1100</th>\n",
       "      <td>4323</td>\n",
       "      <td>DIVA'S</td>\n",
       "      <td>1081 POST ST</td>\n",
       "      <td>San Francisco</td>\n",
       "      <td>CA</td>\n",
       "      <td>94109</td>\n",
       "      <td>NaN</td>\n",
       "      <td>NaN</td>\n",
       "      <td>14154743482</td>\n",
       "    </tr>\n",
       "    <tr>\n",
       "      <th>...</th>\n",
       "      <td>...</td>\n",
       "      <td>...</td>\n",
       "      <td>...</td>\n",
       "      <td>...</td>\n",
       "      <td>...</td>\n",
       "      <td>...</td>\n",
       "      <td>...</td>\n",
       "      <td>...</td>\n",
       "      <td>...</td>\n",
       "    </tr>\n",
       "    <tr>\n",
       "      <th>6310</th>\n",
       "      <td>90234</td>\n",
       "      <td>ACCESS SFUSD THE ARC</td>\n",
       "      <td>1520 HOWARD ST</td>\n",
       "      <td>San Francisco</td>\n",
       "      <td>CA</td>\n",
       "      <td>94103</td>\n",
       "      <td>NaN</td>\n",
       "      <td>NaN</td>\n",
       "      <td>NaN</td>\n",
       "    </tr>\n",
       "    <tr>\n",
       "      <th>6311</th>\n",
       "      <td>90236</td>\n",
       "      <td>PHO DONG HUONG</td>\n",
       "      <td>667 MONTEREY BLVD</td>\n",
       "      <td>San Francisco</td>\n",
       "      <td>CA</td>\n",
       "      <td>94127</td>\n",
       "      <td>NaN</td>\n",
       "      <td>NaN</td>\n",
       "      <td>14154945048</td>\n",
       "    </tr>\n",
       "    <tr>\n",
       "      <th>6312</th>\n",
       "      <td>90237</td>\n",
       "      <td>WIN'S RESTAURANT</td>\n",
       "      <td>3040 TARAVAL ST</td>\n",
       "      <td>San Francisco</td>\n",
       "      <td>CA</td>\n",
       "      <td>94116</td>\n",
       "      <td>NaN</td>\n",
       "      <td>NaN</td>\n",
       "      <td>14158606036</td>\n",
       "    </tr>\n",
       "    <tr>\n",
       "      <th>6313</th>\n",
       "      <td>90238</td>\n",
       "      <td>USA POWER MARKET</td>\n",
       "      <td>1524 OCEAN AVE</td>\n",
       "      <td>San Francisco</td>\n",
       "      <td>CA</td>\n",
       "      <td>94112</td>\n",
       "      <td>NaN</td>\n",
       "      <td>NaN</td>\n",
       "      <td>14153331878</td>\n",
       "    </tr>\n",
       "    <tr>\n",
       "      <th>6314</th>\n",
       "      <td>90239</td>\n",
       "      <td>ALBA RAY'S</td>\n",
       "      <td>2293 MISSION ST</td>\n",
       "      <td>San Francisco</td>\n",
       "      <td>CA</td>\n",
       "      <td>94110</td>\n",
       "      <td>NaN</td>\n",
       "      <td>NaN</td>\n",
       "      <td>14158881393</td>\n",
       "    </tr>\n",
       "  </tbody>\n",
       "</table>\n",
       "<p>2483 rows × 9 columns</p>\n",
       "</div>"
      ],
      "text/plain": [
       "      business_id                               name             address  \\\n",
       "200           821                       LA SANTANECA    3781 MISSION ST    \n",
       "210           852  NEW HOLLYWOOD BAKERY & RESTAURANT    652 PACIFIC AVE    \n",
       "760          2934                   LOU'S FISH SHACK   300 JEFFERSON ST    \n",
       "826          3123                        LES JOULINS        44 ELLIS ST    \n",
       "1100         4323                             DIVA'S       1081 POST ST    \n",
       "...           ...                                ...                 ...   \n",
       "6310        90234               ACCESS SFUSD THE ARC     1520 HOWARD ST    \n",
       "6311        90236                     PHO DONG HUONG  667 MONTEREY BLVD    \n",
       "6312        90237                   WIN'S RESTAURANT    3040 TARAVAL ST    \n",
       "6313        90238                   USA POWER MARKET     1524 OCEAN AVE    \n",
       "6314        90239                         ALBA RAY'S    2293 MISSION ST    \n",
       "\n",
       "               city state postal_code  latitude  longitude phone_number  \n",
       "200   San Francisco    CA       94110       NaN        NaN  14156481034  \n",
       "210   San Francisco    CA       94133       NaN        NaN  14153979919  \n",
       "760   San Francisco    CA       94133       NaN        NaN  14157715687  \n",
       "826   San Francisco    CA       94102       NaN        NaN  14153975397  \n",
       "1100  San Francisco    CA       94109       NaN        NaN  14154743482  \n",
       "...             ...   ...         ...       ...        ...          ...  \n",
       "6310  San Francisco    CA       94103       NaN        NaN          NaN  \n",
       "6311  San Francisco    CA       94127       NaN        NaN  14154945048  \n",
       "6312  San Francisco    CA       94116       NaN        NaN  14158606036  \n",
       "6313  San Francisco    CA       94112       NaN        NaN  14153331878  \n",
       "6314  San Francisco    CA       94110       NaN        NaN  14158881393  \n",
       "\n",
       "[2483 rows x 9 columns]"
      ]
     },
     "execution_count": 15,
     "metadata": {},
     "output_type": "execute_result"
    }
   ],
   "source": [
    "vb[pd.isnull(vb['longitude'])]"
   ]
  },
  {
   "cell_type": "markdown",
   "metadata": {},
   "source": [
    "#### Question 4b\n",
    "\n",
    "Create a new dataframe with one row for each valid zipcode. The dataframe should include the following three columns:\n",
    "\n",
    "1. `postal_code`: Contains the zip codes in the `validZip` variable above.\n",
    "2. `null_lon`: The number of businesses in that zipcode with missing `longitude` values.\n",
    "3. `not_null_lon`: The number of businesses without missing `longitude` values."
   ]
  },
  {
   "cell_type": "code",
   "execution_count": 36,
   "metadata": {},
   "outputs": [
    {
     "name": "stdout",
     "output_type": "stream",
     "text": [
      "   postal_code  null_lon  not_null_lon\n",
      "0        94102       458           458\n",
      "1        94103       558           558\n",
      "2        94104       133           133\n",
      "3        94105       226           226\n",
      "4        94107       451           451\n",
      "5        94108       224           224\n",
      "6        94109       383           383\n",
      "7        94110       585           585\n",
      "8        94111       282           282\n",
      "9        94112       190           190\n",
      "10       94114       230           230\n",
      "11       94115       238           238\n",
      "12       94116        93            93\n",
      "13       94117       197           197\n",
      "14       94118       243           243\n",
      "15       94121       161           161\n",
      "16       94122       270           270\n",
      "17       94123       169           169\n",
      "18       94124       164           164\n",
      "19       94127        71            71\n",
      "20       94131        48            48\n",
      "21       94132       134           134\n",
      "22       94133       417           417\n",
      "23       94134        74            74\n"
     ]
    }
   ],
   "source": [
    "result_df_list = []\n",
    "postal_codes = []\n",
    "null_lon_counts = []\n",
    "not_null_lon_counts = []\n",
    "\n",
    "for zip_code in validZip:\n",
    "    zip_code_bus = bus[bus['postal_code'] == zip_code]\n",
    "    null_lon_count = zip_code_bus['longitude'].isnull().shape[0]\n",
    "    not_null_lon_count = zip_code_bus['longitude'].notnull().shape[0]\n",
    "  \n",
    "    postal_codes.append(zip_code)\n",
    "    null_lon_counts.append(null_lon_count)\n",
    "    not_null_lon_counts.append(not_null_lon_count)\n",
    "\n",
    "result_df = pd.DataFrame({\n",
    "    'postal_code': postal_codes,\n",
    "    'null_lon': null_lon_counts,\n",
    "    'not_null_lon': not_null_lon_counts\n",
    "})\n",
    "\n",
    "print(result_df)"
   ]
  },
  {
   "cell_type": "markdown",
   "metadata": {},
   "source": [
    "#### 4c. Do any zip codes appear to have more than their 'fair share' of missing longitude? \n",
    "\n",
    "To answer this, you will want to compute the proportion of missing longitude values for each zip code, and print the proportion missing longitude, and print the top five zipcodes in descending order of proportion missing postal_code.\n"
   ]
  },
  {
   "cell_type": "code",
   "execution_count": 37,
   "metadata": {},
   "outputs": [
    {
     "name": "stdout",
     "output_type": "stream",
     "text": [
      "Top five zip codes with the highest proportion of missing longitude:\n",
      "   postal_code  prop_missing\n",
      "0        94102           0.5\n",
      "1        94103           0.5\n",
      "22       94133           0.5\n",
      "21       94132           0.5\n",
      "20       94131           0.5\n"
     ]
    }
   ],
   "source": [
    "zip_code_counts = result_df.copy()\n",
    "zip_code_counts['total_count'] = zip_code_counts['null_lon'] + zip_code_counts['not_null_lon']\n",
    "\n",
    "zip_code_counts['prop_missing'] = zip_code_counts['null_lon'] / zip_code_counts['total_count']\n",
    "\n",
    "sorted_zip_codes = zip_code_counts.sort_values(by='prop_missing', ascending=False)\n",
    "\n",
    "print(\"Top five zip codes with the highest proportion of missing longitude:\")\n",
    "print(sorted_zip_codes[['postal_code', 'prop_missing']].head())"
   ]
  },
  {
   "cell_type": "markdown",
   "metadata": {},
   "source": [
    "# Investigate the inspection data\n",
    "\n",
    "Let's now turn to the inspection DataFrame. Earlier, we found that `ins` has 4 columns, these are named `business_id`, `score`, `date` and `type`.  In this section, we determine the granularity of `ins` and investigate the kinds of information provided for the inspections. \n",
    "\n",
    "### Question 5\n",
    "\n",
    "#### Question 5a\n",
    "As with the business data, assess whether there is one inspection record for each business, by counting how many rows are in the data and how many unique businesses there are in the data. If they are exactly the same number, it means there is only one inspection per business, clearly."
   ]
  },
  {
   "cell_type": "code",
   "execution_count": 38,
   "metadata": {
    "tags": [
     "solution"
    ]
   },
   "outputs": [
    {
     "name": "stdout",
     "output_type": "stream",
     "text": [
      "There may be multiple inspection records for some businesses.\n"
     ]
    }
   ],
   "source": [
    "num_rows = ins.shape[0]\n",
    "\n",
    "num_unique_businesses = ins['business_id'].nunique()\n",
    "\n",
    "if num_rows == num_unique_businesses:\n",
    "    print(\"There is exactly one inspection record for each business.\")\n",
    "else:\n",
    "    print(\"There may be multiple inspection records for some businesses.\")"
   ]
  },
  {
   "cell_type": "markdown",
   "metadata": {},
   "source": [
    "#### Question 5b\n",
    "\n",
    "What values does `type` take on? How many occurrences of each value is in the DataFrame? Create a new dataframe named `ins2` by copying `ins` and keeping only records with values of `type` that occur more than 10 times in the original table. In other words, eliminate records that have values of `type` that occur rarely (< 10 times). Check the result to make sure rare types are eliminated."
   ]
  },
  {
   "cell_type": "code",
   "execution_count": 39,
   "metadata": {
    "tags": [
     "solution",
     "written"
    ]
   },
   "outputs": [
    {
     "name": "stdout",
     "output_type": "stream",
     "text": [
      "Occurrences of each value in the 'type' column:\n",
      "type\n",
      "routine      15429\n",
      "complaint        1\n",
      "Name: count, dtype: int64\n",
      "\n",
      "Number of occurrences of each value after filtering:\n",
      "type\n",
      "routine    15429\n",
      "Name: count, dtype: int64\n"
     ]
    }
   ],
   "source": [
    "type_counts = ins['type'].value_counts()\n",
    "print(\"Occurrences of each value in the 'type' column:\")\n",
    "print(type_counts)\n",
    "\n",
    "ins2 = ins[ins['type'].isin(type_counts[type_counts > 10].index)].copy()\n",
    "\n",
    "print(\"\\nNumber of occurrences of each value after filtering:\")\n",
    "print(ins2['type'].value_counts())"
   ]
  },
  {
   "cell_type": "code",
   "execution_count": null,
   "metadata": {},
   "outputs": [],
   "source": []
  },
  {
   "cell_type": "markdown",
   "metadata": {},
   "source": [
    "#### Question 5c\n",
    "\n",
    "Since the data was stored in a .csv file, the dates are formatted as strings such as `20160503`. Once we read in the data, we would like to have dates in an appropriate format for analysis. Add a new column called `year` by capturing the first four characters of the date column. \n",
    "\n",
    "Hint: we have seen multiple ways of doing this in class, includings `str` operations, `lambda` functions, `datetime` operations, and others. Choose the method that works best for you :)"
   ]
  },
  {
   "cell_type": "code",
   "execution_count": 42,
   "metadata": {},
   "outputs": [
    {
     "name": "stdout",
     "output_type": "stream",
     "text": [
      "   business_id  score      date     type  year\n",
      "0           10     82  20160503  routine  2016\n",
      "1           10     94  20140729  routine  2014\n",
      "2           10     92  20140114  routine  2014\n",
      "3           19     94  20160513  routine  2016\n",
      "4           19     94  20141110  routine  2014\n"
     ]
    }
   ],
   "source": [
    "ins['date'] = ins['date'].astype(str)\n",
    "\n",
    "ins['year'] = ins['date'].str[:4]\n",
    "\n",
    "print(ins.head())"
   ]
  },
  {
   "cell_type": "markdown",
   "metadata": {
    "tags": [
     "written"
    ]
   },
   "source": [
    "#### Question 5d\n",
    "\n",
    "What range of years is covered in this data set? Are there roughly same number of inspections each year? Try dropping records for any years with less than 50 inspections and store the result in a new dataframe named `ins3`."
   ]
  },
  {
   "cell_type": "code",
   "execution_count": 43,
   "metadata": {
    "scrolled": true,
    "tags": [
     "solution",
     "written"
    ]
   },
   "outputs": [
    {
     "name": "stdout",
     "output_type": "stream",
     "text": [
      "Range of years covered in the dataset: 2013 - 2016\n",
      "\n",
      "Number of inspections for each year:\n",
      "year\n",
      "2013      38\n",
      "2014    5629\n",
      "2015    3923\n",
      "2016    5840\n",
      "Name: count, dtype: int64\n",
      "\n",
      "ins3 DataFrame with records for years having at least 50 inspections:\n",
      "   business_id  score      date     type  year\n",
      "0           10     82  20160503  routine  2016\n",
      "1           10     94  20140729  routine  2014\n",
      "2           10     92  20140114  routine  2014\n",
      "3           19     94  20160513  routine  2016\n",
      "4           19     94  20141110  routine  2014\n"
     ]
    }
   ],
   "source": [
    "unique_years = ins['year'].unique()\n",
    "print(\"Range of years covered in the dataset:\", unique_years.min(), \"-\", unique_years.max())\n",
    "\n",
    "inspections_per_year = ins['year'].value_counts().sort_index()\n",
    "\n",
    "print(\"\\nNumber of inspections for each year:\")\n",
    "print(inspections_per_year)\n",
    "\n",
    "ins3 = ins[ins['year'].isin(inspections_per_year[inspections_per_year >= 50].index)].copy()\n",
    "\n",
    "print(\"\\nins3 DataFrame with records for years having at least 50 inspections:\")\n",
    "print(ins3.head())\n"
   ]
  },
  {
   "cell_type": "code",
   "execution_count": null,
   "metadata": {},
   "outputs": [],
   "source": []
  },
  {
   "cell_type": "markdown",
   "metadata": {},
   "source": [
    "Let's examine only the inspections for one year: 2016. This puts businesses on a more equal footing because [inspection guidelines](https://www.sfdph.org/dph/eh/Food/Inspections.asp) generally refer to how many inspections should occur in a given year."
   ]
  },
  {
   "cell_type": "code",
   "execution_count": 44,
   "metadata": {},
   "outputs": [
    {
     "name": "stdout",
     "output_type": "stream",
     "text": [
      "Inspections for the year 2016:\n",
      "    business_id  score      date     type  year\n",
      "0            10     82  20160503  routine  2016\n",
      "3            19     94  20160513  routine  2016\n",
      "6            24     98  20161005  routine  2016\n",
      "7            24     96  20160311  routine  2016\n",
      "10           31     84  20160816  routine  2016\n"
     ]
    }
   ],
   "source": [
    "inspections_2016 = ins3[ins3['year'] == '2016']\n",
    "\n",
    "print(\"Inspections for the year 2016:\")\n",
    "print(inspections_2016.head())"
   ]
  },
  {
   "cell_type": "markdown",
   "metadata": {},
   "source": [
    "### Question 6\n",
    "\n",
    "#### Question 6a\n",
    "\n",
    "Merge the business and 2016 inspections data, keeping all businesses regardless of whether they show up in the inspections file. Show the first several rows of the resulting dataframe."
   ]
  },
  {
   "cell_type": "code",
   "execution_count": 45,
   "metadata": {
    "scrolled": true
   },
   "outputs": [
    {
     "name": "stdout",
     "output_type": "stream",
     "text": [
      "First several rows of the merged dataframe:\n",
      "   business_id                                name  \\\n",
      "0           10                    TIRAMISU KITCHEN   \n",
      "1           19               NRGIZE LIFESTYLE CAFE   \n",
      "2           24  OMNI S.F. HOTEL - 2ND FLOOR PANTRY   \n",
      "3           24  OMNI S.F. HOTEL - 2ND FLOOR PANTRY   \n",
      "4           31      NORMAN'S ICE CREAM AND FREEZES   \n",
      "\n",
      "                         address           city state postal_code   latitude  \\\n",
      "0                  033 BELDEN PL  San Francisco    CA       94104  37.791116   \n",
      "1   1200 VAN NESS AVE, 3RD FLOOR  San Francisco    CA       94109  37.786848   \n",
      "2  500 CALIFORNIA ST, 2ND  FLOOR  San Francisco    CA       94104  37.792888   \n",
      "3  500 CALIFORNIA ST, 2ND  FLOOR  San Francisco    CA       94104  37.792888   \n",
      "4           2801 LEAVENWORTH ST   San Francisco    CA       94133  37.807155   \n",
      "\n",
      "    longitude phone_number  score      date     type  year  \n",
      "0 -122.403816  14154217044   82.0  20160503  routine  2016  \n",
      "1 -122.421547  14157763262   94.0  20160513  routine  2016  \n",
      "2 -122.403135  14156779494   98.0  20161005  routine  2016  \n",
      "3 -122.403135  14156779494   96.0  20160311  routine  2016  \n",
      "4 -122.419004          NaN   84.0  20160816  routine  2016  \n"
     ]
    }
   ],
   "source": [
    "merged_data = pd.merge(bus, inspections_2016, how='left', on='business_id')\n",
    "\n",
    "print(\"First several rows of the merged dataframe:\")\n",
    "print(merged_data.head())"
   ]
  },
  {
   "cell_type": "markdown",
   "metadata": {},
   "source": [
    "#### Question 6b\n",
    "Print the 20 lowest rated businesses names, their addresses, and their ratings."
   ]
  },
  {
   "cell_type": "code",
   "execution_count": 46,
   "metadata": {
    "scrolled": true
   },
   "outputs": [
    {
     "name": "stdout",
     "output_type": "stream",
     "text": [
      "20 Lowest Rated Businesses:\n",
      "                             name              address  score\n",
      "4892      GOLDEN RIVER RESTAURANT     5827 GEARY BLVD    52.0\n",
      "7325                    POKI TIME     2101 LOMBARD ST    55.0\n",
      "6281                 CRAZY PEPPER   2257 SAN JOSE AVE    55.0\n",
      "4873                   UNCLE CAFE       65 WAVERLY PL    55.0\n",
      "3008             HING WANG BAKERY        339 JUDAH ST    56.0\n",
      "5627                   GOLDEN WOK   295 B ORIZABA AVE    56.0\n",
      "5383                   TOP'S CAFE  2460 SAN BRUNO AVE    57.0\n",
      "6067    L & G VIETNAMESE SANDWICH         602 EDDY ST    57.0\n",
      "836                  RED A BAKERY      634 CLEMENT ST    57.0\n",
      "4209      SAN TUNG RESTAURANT LLC      1031 IRVING ST    57.0\n",
      "549           MA'S DIM SUM & CAFE      1315 POWELL ST    57.0\n",
      "4903  NEW GARDEN RESTAURANT, INC.       716 KEARNY ST    57.0\n",
      "6645    KOBANI MEDITERANEAN GRILL       3242 SCOTT ST    58.0\n",
      "624           JOANIE'S DINER INC.   1329 COLUMBUS AVE    59.0\n",
      "6938         PAK NAM THAI CUISINE       655 LARKIN ST    59.0\n",
      "3563                  JADE GARDEN      3608 BALBOA ST    59.0\n",
      "4234                        ITHAI         720 POST ST    59.0\n",
      "6151          VALLARTA'S TACO BAR     2022 MISSION ST    60.0\n",
      "4850             HONG KONG LOUNGE     5322 GEARY BLVD    60.0\n",
      "5013                 WOLFES LUNCH        1220 16TH ST    60.0\n"
     ]
    }
   ],
   "source": [
    "lowest_rated = merged_data.sort_values(by='score', ascending=True)\n",
    "\n",
    "lowest_rated_20 = lowest_rated.head(20)\n",
    "\n",
    "print(\"20 Lowest Rated Businesses:\")\n",
    "print(lowest_rated_20[['name', 'address', 'score']])"
   ]
  },
  {
   "cell_type": "markdown",
   "metadata": {},
   "source": [
    "## Done!\n",
    "\n",
    "Now commit this notebook to your `hw3_submissions` branch, push it to your GitHub repo, and open a PR!"
   ]
  },
  {
   "cell_type": "code",
   "execution_count": null,
   "metadata": {},
   "outputs": [],
   "source": []
  }
 ],
 "metadata": {
  "anaconda-cloud": {},
  "kernelspec": {
   "display_name": "Python 3 (ipykernel)",
   "language": "python",
   "name": "python3"
  },
  "language_info": {
   "codemirror_mode": {
    "name": "ipython",
    "version": 3
   },
   "file_extension": ".py",
   "mimetype": "text/x-python",
   "name": "python",
   "nbconvert_exporter": "python",
   "pygments_lexer": "ipython3",
   "version": "3.12.0"
  },
  "toc": {
   "base_numbering": 1,
   "nav_menu": {},
   "number_sections": false,
   "sideBar": true,
   "skip_h1_title": false,
   "title_cell": "Table of Contents",
   "title_sidebar": "Contents",
   "toc_cell": false,
   "toc_position": {},
   "toc_section_display": true,
   "toc_window_display": false
  }
 },
 "nbformat": 4,
 "nbformat_minor": 4
}
